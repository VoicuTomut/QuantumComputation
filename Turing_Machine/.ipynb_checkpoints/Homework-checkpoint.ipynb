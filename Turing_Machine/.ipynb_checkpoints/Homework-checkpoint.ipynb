{
 "cells": [
  {
   "cell_type": "code",
   "execution_count": 1,
   "id": "cd99ead5",
   "metadata": {},
   "outputs": [],
   "source": [
    "from TM import TuringMachine"
   ]
  },
  {
   "cell_type": "code",
   "execution_count": null,
   "id": "2c495949",
   "metadata": {},
   "outputs": [],
   "source": []
  },
  {
   "cell_type": "code",
   "execution_count": null,
   "id": "cb5be916",
   "metadata": {},
   "outputs": [],
   "source": []
  },
  {
   "cell_type": "code",
   "execution_count": 1,
   "id": "d33a668d",
   "metadata": {},
   "outputs": [
    {
     "ename": "NameError",
     "evalue": "name 'TuringMachine' is not defined",
     "output_type": "error",
     "traceback": [
      "\u001b[0;31m---------------------------------------------------------------------------\u001b[0m",
      "\u001b[0;31mNameError\u001b[0m                                 Traceback (most recent call last)",
      "Cell \u001b[0;32mIn[1], line 3\u001b[0m\n\u001b[1;32m      1\u001b[0m \u001b[38;5;28minput\u001b[39m \u001b[38;5;241m=\u001b[39m \u001b[38;5;124m'\u001b[39m\u001b[38;5;124m1101_101\u001b[39m\u001b[38;5;124m'\u001b[39m\n\u001b[1;32m      2\u001b[0m program \u001b[38;5;241m=\u001b[39m \u001b[38;5;28mopen\u001b[39m(\u001b[38;5;124m'\u001b[39m\u001b[38;5;124mprogram.txt\u001b[39m\u001b[38;5;124m'\u001b[39m)\u001b[38;5;241m.\u001b[39mread()\n\u001b[0;32m----> 3\u001b[0m tm \u001b[38;5;241m=\u001b[39m \u001b[43mTuringMachine\u001b[49m(program, \u001b[38;5;28minput\u001b[39m)\n\u001b[1;32m      4\u001b[0m tm\u001b[38;5;241m.\u001b[39mrun()\n\u001b[1;32m      5\u001b[0m \u001b[38;5;66;03m# 10010 H\u001b[39;00m\n",
      "\u001b[0;31mNameError\u001b[0m: name 'TuringMachine' is not defined"
     ]
    }
   ],
   "source": [
    "input = '1101_101'\n",
    "program = open('hw_program.txt').read()\n",
    "tm = TuringMachine(program, input)\n",
    "tm.run()\n",
    "# 10010 H"
   ]
  },
  {
   "cell_type": "code",
   "execution_count": null,
   "id": "5537dae0",
   "metadata": {},
   "outputs": [],
   "source": []
  }
 ],
 "metadata": {
  "kernelspec": {
   "display_name": "Python 3 (ipykernel)",
   "language": "python",
   "name": "python3"
  },
  "language_info": {
   "codemirror_mode": {
    "name": "ipython",
    "version": 3
   },
   "file_extension": ".py",
   "mimetype": "text/x-python",
   "name": "python",
   "nbconvert_exporter": "python",
   "pygments_lexer": "ipython3",
   "version": "3.9.15"
  }
 },
 "nbformat": 4,
 "nbformat_minor": 5
}
