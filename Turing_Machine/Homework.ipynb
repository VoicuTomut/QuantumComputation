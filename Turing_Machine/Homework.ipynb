{
 "cells": [
  {
   "cell_type": "code",
   "execution_count": 1,
   "id": "cd99ead5",
   "metadata": {},
   "outputs": [],
   "source": [
    "from TM import TuringMachine"
   ]
  },
  {
   "cell_type": "markdown",
   "id": "f2868153",
   "metadata": {},
   "source": [
    "## 1.Task "
   ]
  },
  {
   "cell_type": "markdown",
   "id": "62487fa8",
   "metadata": {},
   "source": []
  },
  {
   "cell_type": "code",
   "execution_count": null,
   "id": "984e8ab6",
   "metadata": {},
   "outputs": [],
   "source": [
    "## 2.Examples"
   ]
  },
  {
   "cell_type": "code",
   "execution_count": null,
   "id": "a6bab009",
   "metadata": {},
   "outputs": [],
   "source": [
    "## 3.Description"
   ]
  },
  {
   "cell_type": "code",
   "execution_count": null,
   "id": "850c1070",
   "metadata": {},
   "outputs": [],
   "source": [
    "## 4.Complexity"
   ]
  },
  {
   "cell_type": "code",
   "execution_count": null,
   "id": "d7c96b64",
   "metadata": {},
   "outputs": [],
   "source": [
    "## 5.Working example"
   ]
  },
  {
   "cell_type": "code",
   "execution_count": 3,
   "id": "d33a668d",
   "metadata": {},
   "outputs": [
    {
     "name": "stdout",
     "output_type": "stream",
     "text": [
      "1101101 0\n",
      "1101101 0\n",
      "1101101 0\n",
      "1101101 0\n",
      "1101101 1\n",
      "1101101 1\n",
      "1101101 1\n",
      "1101101 1\n",
      "1101101 2\n",
      "1101100 3\n",
      "1101100 3\n",
      "1101100 3\n",
      "1101100 4\n",
      "1100100 4\n",
      "1110100 0\n",
      "1110100 0\n",
      "1110100 1\n",
      "1110100 1\n",
      "1110100 1\n",
      "1110100 1\n",
      "1110100 2\n",
      "1110101 2\n",
      "1110111 2\n",
      "1110011 3\n",
      "1110011 4\n",
      "1111011 0\n",
      "1111011 1\n",
      "1111011 1\n",
      "1111011 1\n",
      "1111011 1\n",
      "1111011 2\n",
      "1111010 3\n",
      "1111010 3\n",
      "1111010 3\n",
      "1111010 4\n",
      "1110010 4\n",
      "1100010 4\n",
      "1000010 4\n",
      "0000010 4\n",
      "10000010 0\n",
      "10000010 0\n",
      "10000010 0\n",
      "10000010 0\n",
      "10000010 0\n",
      "10000010 1\n",
      "10000010 1\n",
      "10000010 1\n",
      "10000010 1\n",
      "10000010 2\n",
      "10000011 2\n",
      "10000001 3\n",
      "10000001 3\n",
      "10000001 4\n",
      "10001001 0\n",
      "10001001 1\n",
      "10001001 1\n",
      "10001001 1\n",
      "10001001 1\n",
      "10001001 2\n",
      "10001000 3\n",
      "10001000 3\n",
      "10001000 3\n",
      "10001000 4\n",
      "10000000 4\n",
      "10010000 0\n",
      "10010000 0\n",
      "10010000 1\n",
      "10010000 1\n",
      "10010000 1\n",
      "10010000 1\n",
      "10010000 2\n",
      "10010001 2\n",
      "10010011 2\n",
      "10010111 2\n",
      "10010111 5\n",
      "1001011 5\n",
      "100101 5\n",
      "10010 5\n",
      "10010 H\n",
      "10010 H\n"
     ]
    }
   ],
   "source": [
    "N = 1000 # tape length, initialize to a large value if you need it\n",
    "input = '1101_101'\n",
    "program = open('hw_program.txt').read()\n",
    "tm = TuringMachine(program, input,N)\n",
    "tm.run()\n",
    "# 10010 H"
   ]
  },
  {
   "cell_type": "code",
   "execution_count": null,
   "id": "5537dae0",
   "metadata": {},
   "outputs": [],
   "source": []
  }
 ],
 "metadata": {
  "kernelspec": {
   "display_name": "Python 3 (ipykernel)",
   "language": "python",
   "name": "python3"
  },
  "language_info": {
   "codemirror_mode": {
    "name": "ipython",
    "version": 3
   },
   "file_extension": ".py",
   "mimetype": "text/x-python",
   "name": "python",
   "nbconvert_exporter": "python",
   "pygments_lexer": "ipython3",
   "version": "3.9.15"
  }
 },
 "nbformat": 4,
 "nbformat_minor": 5
}
