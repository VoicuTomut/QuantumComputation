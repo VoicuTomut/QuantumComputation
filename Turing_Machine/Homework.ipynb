{
 "cells": [
  {
   "cell_type": "code",
   "execution_count": 1,
   "id": "cd99ead5",
   "metadata": {},
   "outputs": [],
   "source": [
    "from TM import TuringMachine"
   ]
  },
  {
   "cell_type": "markdown",
   "id": "f2868153",
   "metadata": {},
   "source": [
    "## 1.Task "
   ]
  },
  {
   "cell_type": "markdown",
   "id": "62487fa8",
   "metadata": {},
   "source": [
    "Because e I appreciate the power of copy-paste, I chose to approach the task of copying data.  More precisely, \" Given a binary string an on tape \"a\" at the end of the program, the state on the tape will be \"a__a\"."
   ]
  },
  {
   "cell_type": "markdown",
   "id": "a5b7591d",
   "metadata": {},
   "source": [
    "## 2.Examples\n",
    "\n",
    "\"1000\"->\"1000__1000\"\n",
    "\n",
    "\"1010\"->\"1010__1010\"\n",
    "\n",
    "\"110101\"->\"11010__10101\""
   ]
  },
  {
   "cell_type": "markdown",
   "id": "02544d55",
   "metadata": {},
   "source": [
    "## 3.Description of touring machine"
   ]
  },
  {
   "cell_type": "markdown",
   "id": "96424dc2",
   "metadata": {},
   "source": [
    "TM starts at the begging of the string. \n",
    "\n",
    "It will take the character and erase it  \"_\" and copy it once ahead of the string, and once behind, it will repeat it until the entire state is erased and cloned. \n",
    "\n",
    "In order to have a perfect copy-paste, we could come up with a program to translate the first string back with one spaces, but the time to do that is not proportional to the reword since this is just a school exercise."
   ]
  },
  {
   "cell_type": "markdown",
   "id": "b47069b9",
   "metadata": {},
   "source": [
    "Tutorial string: \" 0 1 0 1 \"  (<-left; right->)\n",
    "\n",
    "Intitial state:  \"_ *0* 1 0 1 _ \""
   ]
  },
  {
   "cell_type": "markdown",
   "id": "6cd88e62",
   "metadata": {},
   "source": [
    " C1: decide witch element need tobe cloned 0 or 1\n",
    " \n",
    " <ul>\n",
    "    <li>1 0 _ l 2</li>\n",
    "    <li>1 1 _ l 3</li>\n",
    "    <li>1 _ _ * H</li>\n",
    " </ul>\n",
    " after this step : \" # _ 1 0 1 _ \"."
   ]
  },
  {
   "cell_type": "markdown",
   "id": "6f84aa86",
   "metadata": {},
   "source": [
    " Steps to clone a 0: \n",
    " \n",
    " C2: \n",
    " <ul>\n",
    "    <li>2 0 0 l 2</li>\n",
    "    <li>2 1 1 l 2</li>\n",
    "    <li>2 _ 0 r 4</li>\n",
    " </ul>\n",
    "afer this step: \"0 # 1 0 1 _ \".\n",
    "\n",
    " C4:\n",
    " <ul>\n",
    "    <li>4 0 0 r 4</li>\n",
    "    <li>4 1 1 r 4</li>\n",
    "    <li>4 _ _ r 6</li>\n",
    " </ul>\n",
    "afer this step: \"0 _ *1* 0 1 _ \".\n",
    "\n",
    "C6:\n",
    " <ul>\n",
    "    <li>6 0 0 r 6</li>\n",
    "    <li>6 1 1 r 6</li>\n",
    "    <li>6 _ _ r 8</li>\n",
    " </ul> \n",
    " afer this step: \"0 _ 1 0 1 _ # \".\n",
    " \n",
    " C8:\n",
    " <ul>\n",
    "    <li>8 0 0 r 8</li>\n",
    "    <li>8 1 1 r 8</li>\n",
    "    <li>8 _ 0 l 10</li>\n",
    " </ul> \n",
    " afer this step: \"0 _ 1 0 1 # 0 \"."
   ]
  },
  {
   "cell_type": "markdown",
   "id": "9c4a84ee",
   "metadata": {},
   "source": [
    "Go to the original string:\n",
    "\n",
    "C10:\n",
    " <ul>\n",
    "    <li>10 0 0 l 10</li>\n",
    "    <li>10 1 1 l 10</li>\n",
    "    <li>10 _ _ l 0</li> # now we reach the original string\n",
    " </ul> \n",
    " afer this step: \"0 _ 1 0 *1* _ 0 \".\n",
    " \n",
    " Go to the first remining character of the original string\n",
    " \n",
    " C0:\n",
    " <ul>\n",
    "    <li>0 0 0 l 0</li>\n",
    "    <li>0 1 1 l 0</li>\n",
    "    <li>0 _ _ r 1</li> # now we reach the original string\n",
    " </ul> \n",
    " afer this step: \"0 _ *1* 0 1 _ 0 \"."
   ]
  },
  {
   "cell_type": "markdown",
   "id": "ee7bd6ec",
   "metadata": {},
   "source": [
    "Steps to go back to the new first caracter from the numer. In this case it will be 1: \"0 _ *1* 0 1 _ 0 \"."
   ]
  },
  {
   "cell_type": "markdown",
   "id": "fb9a92a8",
   "metadata": {},
   "source": [
    "C1: \"0 # _ 0 1 _ 0 \""
   ]
  },
  {
   "cell_type": "markdown",
   "id": "e3fac5c1",
   "metadata": {},
   "source": [
    "Steps to clone a 1: \n",
    " \n",
    " C3: \n",
    " <ul>\n",
    "    <li>3 0 0 l 3</li>\n",
    "    <li>3 1 1 l 3</li>\n",
    "    <li>3 _ 1 r 5</li>\n",
    " </ul>\n",
    "afer this step: \"0 1 # 0 1 _ 0 \".\n",
    "\n",
    " C5:\n",
    " <ul>\n",
    "    <li>5 0 0 r 5</li>\n",
    "    <li>5 1 1 r 5</li>\n",
    "    <li>5 _ _ r 7</li>\n",
    " </ul>\n",
    "afer this step: \"0 1 _ *0* 1 _ 0 \".\n",
    "\n",
    "C7:\n",
    " <ul>\n",
    "    <li>7 0 0 r 7</li>\n",
    "    <li>7 1 1 r 7</li>\n",
    "    <li>7 _ _ r 9</li>\n",
    " </ul> \n",
    "afer this step: \"0 1 _ 0 1 _ *0* \".\n",
    " \n",
    " C9:\n",
    " <ul>\n",
    "    <li>9 0 0 r 9</li>\n",
    "    <li>9 1 1 r 9</li>\n",
    "    <li>9 _ 1 l 10</li>\n",
    " </ul> \n",
    " afer this step: \"0 1 _ 0 1 _ *0* 1 \".\n"
   ]
  },
  {
   "cell_type": "code",
   "execution_count": null,
   "id": "b1ef0061",
   "metadata": {},
   "outputs": [],
   "source": []
  },
  {
   "cell_type": "markdown",
   "id": "fe77086f",
   "metadata": {},
   "source": [
    "## 4.Complexity"
   ]
  },
  {
   "cell_type": "code",
   "execution_count": null,
   "id": "baaeff4c",
   "metadata": {},
   "outputs": [],
   "source": []
  },
  {
   "cell_type": "markdown",
   "id": "9d981282",
   "metadata": {},
   "source": [
    "## 5.Working example"
   ]
  },
  {
   "cell_type": "code",
   "execution_count": 14,
   "id": "d33a668d",
   "metadata": {},
   "outputs": [
    {
     "name": "stdout",
     "output_type": "stream",
     "text": [
      "10110110 1\n",
      "0110110 3\n",
      "10110110 5\n",
      "10110110 7\n",
      "10110110 7\n",
      "10110110 7\n",
      "10110110 7\n",
      "10110110 7\n",
      "10110110 7\n",
      "10110110 7\n",
      "10110110 7\n",
      "10110110 9\n",
      "101101101 10\n",
      "101101101 0\n",
      "101101101 0\n",
      "101101101 0\n",
      "101101101 0\n",
      "101101101 0\n",
      "101101101 0\n",
      "101101101 0\n",
      "101101101 0\n",
      "101101101 1\n",
      "11101101 2\n",
      "101101101 4\n",
      "101101101 6\n",
      "101101101 6\n",
      "101101101 6\n",
      "101101101 6\n",
      "101101101 6\n",
      "101101101 6\n",
      "101101101 6\n",
      "101101101 8\n",
      "101101101 8\n",
      "1011011010 10\n",
      "1011011010 10\n",
      "1011011010 0\n",
      "1011011010 0\n",
      "1011011010 0\n",
      "1011011010 0\n",
      "1011011010 0\n",
      "1011011010 0\n",
      "1011011010 0\n",
      "1011011010 1\n",
      "101011010 3\n",
      "1011011010 5\n",
      "1011011010 7\n",
      "1011011010 7\n",
      "1011011010 7\n",
      "1011011010 7\n",
      "1011011010 7\n",
      "1011011010 7\n",
      "1011011010 9\n",
      "1011011010 9\n",
      "1011011010 9\n",
      "10110110101 10\n",
      "10110110101 10\n",
      "10110110101 10\n",
      "10110110101 0\n",
      "10110110101 0\n",
      "10110110101 0\n",
      "10110110101 0\n",
      "10110110101 0\n",
      "10110110101 0\n",
      "10110110101 1\n",
      "1010110101 3\n",
      "10110110101 5\n",
      "10110110101 7\n",
      "10110110101 7\n",
      "10110110101 7\n",
      "10110110101 7\n",
      "10110110101 7\n",
      "10110110101 9\n",
      "10110110101 9\n",
      "10110110101 9\n",
      "10110110101 9\n",
      "101101101011 10\n",
      "101101101011 10\n",
      "101101101011 10\n",
      "101101101011 10\n",
      "101101101011 0\n",
      "101101101011 0\n",
      "101101101011 0\n",
      "101101101011 0\n",
      "101101101011 0\n",
      "101101101011 1\n",
      "10111101011 2\n",
      "101101101011 4\n",
      "101101101011 6\n",
      "101101101011 6\n",
      "101101101011 6\n",
      "101101101011 6\n",
      "101101101011 8\n",
      "101101101011 8\n",
      "101101101011 8\n",
      "101101101011 8\n",
      "101101101011 8\n",
      "1011011010110 10\n",
      "1011011010110 10\n",
      "1011011010110 10\n",
      "1011011010110 10\n",
      "1011011010110 10\n",
      "1011011010110 0\n",
      "1011011010110 0\n",
      "1011011010110 0\n",
      "1011011010110 0\n",
      "1011011010110 1\n",
      "101101010110 3\n",
      "1011011010110 5\n",
      "1011011010110 7\n",
      "1011011010110 7\n",
      "1011011010110 7\n",
      "1011011010110 9\n",
      "1011011010110 9\n",
      "1011011010110 9\n",
      "1011011010110 9\n",
      "1011011010110 9\n",
      "1011011010110 9\n",
      "10110110101101 10\n",
      "10110110101101 10\n",
      "10110110101101 10\n",
      "10110110101101 10\n",
      "10110110101101 10\n",
      "10110110101101 10\n",
      "10110110101101 0\n",
      "10110110101101 0\n",
      "10110110101101 0\n",
      "10110110101101 1\n",
      "1011010101101 3\n",
      "10110110101101 5\n",
      "10110110101101 7\n",
      "10110110101101 7\n",
      "10110110101101 9\n",
      "10110110101101 9\n",
      "10110110101101 9\n",
      "10110110101101 9\n",
      "10110110101101 9\n",
      "10110110101101 9\n",
      "10110110101101 9\n",
      "101101101011011 10\n",
      "101101101011011 10\n",
      "101101101011011 10\n",
      "101101101011011 10\n",
      "101101101011011 10\n",
      "101101101011011 10\n",
      "101101101011011 10\n",
      "101101101011011 0\n",
      "101101101011011 0\n",
      "101101101011011 1\n",
      "10110111011011 2\n",
      "101101101011011 4\n",
      "101101101011011 6\n",
      "101101101011011 8\n",
      "101101101011011 8\n",
      "101101101011011 8\n",
      "101101101011011 8\n",
      "101101101011011 8\n",
      "101101101011011 8\n",
      "101101101011011 8\n",
      "101101101011011 8\n",
      "1011011010110110 10\n",
      "1011011010110110 10\n",
      "1011011010110110 10\n",
      "1011011010110110 10\n",
      "1011011010110110 10\n",
      "1011011010110110 10\n",
      "1011011010110110 10\n",
      "1011011010110110 10\n",
      "1011011010110110 0\n",
      "1011011010110110 1\n",
      "1011011010110110 H\n",
      "1011011010110110 H\n"
     ]
    }
   ],
   "source": [
    "N = 100 # tape length, initialize to a large value if you need it\n",
    "input = '_10110110_'\n",
    "program = open('hw_program.txt').read()\n",
    "tm = TuringMachine(program, input,N)\n",
    "tm.run()\n",
    "'1011011010110110'"
   ]
  },
  {
   "cell_type": "code",
   "execution_count": 15,
   "id": "cf913265",
   "metadata": {},
   "outputs": [
    {
     "ename": "SyntaxError",
     "evalue": "invalid syntax (2598200800.py, line 1)",
     "output_type": "error",
     "traceback": [
      "\u001b[0;36m  Cell \u001b[0;32mIn[15], line 1\u001b[0;36m\u001b[0m\n\u001b[0;31m    10110110 10110110\u001b[0m\n\u001b[0m             ^\u001b[0m\n\u001b[0;31mSyntaxError\u001b[0m\u001b[0;31m:\u001b[0m invalid syntax\n"
     ]
    }
   ],
   "source": [
    "# 10110110 10110110\n",
    "# 10110110"
   ]
  },
  {
   "cell_type": "code",
   "execution_count": null,
   "id": "82de648c",
   "metadata": {},
   "outputs": [],
   "source": []
  }
 ],
 "metadata": {
  "kernelspec": {
   "display_name": "Python 3 (ipykernel)",
   "language": "python",
   "name": "python3"
  },
  "language_info": {
   "codemirror_mode": {
    "name": "ipython",
    "version": 3
   },
   "file_extension": ".py",
   "mimetype": "text/x-python",
   "name": "python",
   "nbconvert_exporter": "python",
   "pygments_lexer": "ipython3",
   "version": "3.9.15"
  }
 },
 "nbformat": 4,
 "nbformat_minor": 5
}
