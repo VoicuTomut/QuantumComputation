{
 "cells": [
  {
   "cell_type": "markdown",
   "id": "0f2175da",
   "metadata": {},
   "source": [
    "# Factoring and period finding"
   ]
  },
  {
   "cell_type": "code",
   "execution_count": null,
   "id": "508b97cc",
   "metadata": {},
   "outputs": [],
   "source": [
    "\"\"\"\n",
    "Factoring and period finding\n",
    "\"\"\"\n",
    "\n",
    "import numpy as np\n",
    "import pandas as pd\n",
    "import matplotlib.pyplot as plt\n",
    "\n",
    "from qiskit import QuantumCircuit\n",
    "import sys\n",
    "\n",
    "np.set_printoptions(threshold=sys.maxsize)\n",
    "\n",
    "from fractions import Fraction\n",
    "\n",
    "from qiskit import QuantumCircuit, Aer, transpile, assemble\n",
    "from qiskit.visualization import plot_histogram"
   ]
  },
  {
   "cell_type": "code",
   "execution_count": null,
   "id": "6573c315",
   "metadata": {},
   "outputs": [],
   "source": [
    "# Directly prepare the quantum state:\n",
    "def get_coeffs(x, N, n_q, n_count):\n",
    "    \"\"\"\n",
    "    x-> guess\n",
    "    N-> target number\n",
    "    n_q -> number of qubits\n",
    "    n_count -> number qubits for qft #t\n",
    "    \"\"\"\n",
    "    vec = np.zeros(2 ** n_q)\n",
    "    base = 1\n",
    "    for i in range(2 ** n_count):\n",
    "        s1 = np.binary_repr(i, n_count)\n",
    "        mod2 = np.mod(base, N)\n",
    "        base = mod2 * x\n",
    "        s2 = np.binary_repr(mod2, n_q - n_count)\n",
    "        print(i, mod2, s1, s2)\n",
    "        vec[int(s2 + s1, 2)] = 1\n",
    "    return vec\n",
    "\n",
    "\n",
    "def qft_dagger(n):\n",
    "    \"\"\"n-qubit QFTdagger the first n qubits in circ\"\"\"\n",
    "    qc = QuantumCircuit(n)\n",
    "    # Don't forget the Swaps!\n",
    "    for qubit in range(n // 2):\n",
    "        qc.swap(qubit, n - qubit - 1)\n",
    "    for j in range(n):\n",
    "        for m in range(j):\n",
    "            qc.cp(-np.pi / float(2 ** (j - m)), m, j)\n",
    "        qc.h(j)\n",
    "    qc.name = \"QFT†\"\n",
    "    return qc\n"
   ]
  },
  {
   "cell_type": "code",
   "execution_count": null,
   "id": "d332c62b",
   "metadata": {},
   "outputs": [],
   "source": []
  },
  {
   "cell_type": "markdown",
   "id": "dfed196d",
   "metadata": {},
   "source": [
    "##  Example: x=3, N=15:"
   ]
  },
  {
   "cell_type": "code",
   "execution_count": null,
   "id": "43b683d9",
   "metadata": {},
   "outputs": [],
   "source": [
    "# Example: x=3, N=15:\n",
    "\n",
    "x = 3\n",
    "N = 15\n",
    "n_q = 10  # total number of Qubits (QFT_register + a**i_register)\n",
    "n_count = 4  # number of qubits of QFT_register\n",
    "\n",
    "print(\"x:\", x)\n",
    "print(\"N:\", N)\n",
    "print(\"n_q:\", n_q)\n",
    "print(\"n_count:\", n_count)\n",
    "\n",
    "vec = get_coeffs(x, N, n_q, n_count)\n",
    "vec =  np.multiply(vec, 1/np.sqrt(2**n_count))\n",
    "print(\"vec:\", vec)\n"
   ]
  },
  {
   "cell_type": "code",
   "execution_count": 1,
   "id": "aced4675",
   "metadata": {},
   "outputs": [
    {
     "ename": "NameError",
     "evalue": "name 'QuantumCircuit' is not defined",
     "output_type": "error",
     "traceback": [
      "\u001b[0;31m---------------------------------------------------------------------------\u001b[0m",
      "\u001b[0;31mNameError\u001b[0m                                 Traceback (most recent call last)",
      "Cell \u001b[0;32mIn[1], line 3\u001b[0m\n\u001b[1;32m      1\u001b[0m \u001b[38;5;66;03m## Simulation:\u001b[39;00m\n\u001b[0;32m----> 3\u001b[0m Q \u001b[38;5;241m=\u001b[39m \u001b[43mQuantumCircuit\u001b[49m(n_q,n_count)\n\u001b[1;32m      4\u001b[0m Q\u001b[38;5;241m.\u001b[39minitialize(vec)\n\u001b[1;32m      6\u001b[0m Q\u001b[38;5;241m.\u001b[39mappend(qft_dagger(n_count),\u001b[38;5;28mrange\u001b[39m(n_count))\n",
      "\u001b[0;31mNameError\u001b[0m: name 'QuantumCircuit' is not defined"
     ]
    }
   ],
   "source": [
    "## Simulation:\n",
    "\n",
    "Q = QuantumCircuit(n_q,n_count)\n",
    "Q.initialize(vec)\n",
    "\n",
    "Q.append(qft_dagger(n_count),range(n_count))\n",
    "Q.measure(range(n_count),range(n_count))\n",
    "Q.draw(fold=-1)  # -1 means 'do not fold'\n",
    "\n",
    "aer_sim = Aer.get_backend('aer_simulator')\n",
    "t_qc = transpile(Q, aer_sim)\n",
    "qobj = assemble(t_qc)\n",
    "results = aer_sim.run(qobj).result()\n",
    "counts = results.get_counts()\n",
    "plot_histogram(counts)"
   ]
  },
  {
   "cell_type": "code",
   "execution_count": null,
   "id": "a145980b",
   "metadata": {},
   "outputs": [],
   "source": [
    "## Compute the continuous fraction, and obtain from there the candidate factors:\n",
    "\n",
    "rows, measured_phases = [], []\n",
    "for output in counts:\n",
    "    decimal = int(output, 2)  # Convert (base 2) string to decimal\n",
    "    phase = decimal/(2**n_count)  # Find corresponding eigenvalue\n",
    "    measured_phases.append(phase)\n",
    "\n",
    "    # Add these values to the rows in our table:\n",
    "    frac = Fraction(phase).limit_denominator(N)\n",
    "    #rows.append([f\"{output}(bin) = {decimal:>3}(dec)\", f\"{decimal}/{2**n_count} = {phase:.2f}\",f\"{frac.numerator}/{frac.denominator}\", frac.denominator, np.gcd(x**(frac.denominator//2)-1, N), np.gcd(x**(frac.denominator//2)+1, N)])\n",
    "    rows.append([f\"{output}(bin) = {decimal:>3}(dec)\", f\"{frac.numerator}/{frac.denominator}\", frac.denominator, np.gcd(x**(frac.denominator//2)-1, N), np.gcd(x**(frac.denominator//2)+1, N)])\n",
    "# Print the rows in a table\n",
    "#headers=[\"Register Output\", \"Phase\", \"Fraction\", \"Guess for r\", \"guess1\",\"guess2\"]\n",
    "headers=[\"Register Output\", \"Fraction\", \"Guess for r\", \"guess1\",\"guess2\"]\n",
    "df = pd.DataFrame(rows, columns=headers)\n",
    "print(df)"
   ]
  },
  {
   "cell_type": "markdown",
   "id": "3bbb08ca",
   "metadata": {},
   "source": [
    "## Assignement \n",
    "\n",
    "For the assignement I choose the number: N=21 and x= 3,4,5,9."
   ]
  },
  {
   "cell_type": "code",
   "execution_count": null,
   "id": "d03ffb86",
   "metadata": {},
   "outputs": [],
   "source": [
    "def get_period(x,N,p=3):\n",
    "    s=x**0%N\n",
    "    k=0\n",
    "    xpmo= []\n",
    "    while p!=0:\n",
    "        pmo=x**k%N\n",
    "        xpmo.append(pmo)\n",
    "        if pmo==s:\n",
    "            p=p-1\n",
    "    return xpmo, k\n"
   ]
  }
 ],
 "metadata": {
  "kernelspec": {
   "display_name": "Python 3 (ipykernel)",
   "language": "python",
   "name": "python3"
  },
  "language_info": {
   "codemirror_mode": {
    "name": "ipython",
    "version": 3
   },
   "file_extension": ".py",
   "mimetype": "text/x-python",
   "name": "python",
   "nbconvert_exporter": "python",
   "pygments_lexer": "ipython3",
   "version": "3.9.16"
  }
 },
 "nbformat": 4,
 "nbformat_minor": 5
}
